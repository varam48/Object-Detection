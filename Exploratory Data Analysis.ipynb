{
 "cells": [
  {
   "cell_type": "markdown",
   "metadata": {},
   "source": [
    "# Explore the dataset\n",
    "\n",
    "\n",
    "In this notebook, we will perform an EDA (Exploratory Data Analysis) on the processed Waymo dataset (data in the `processed` folder). In the first part, you will create a function to display "
   ]
  },
  {
   "cell_type": "code",
   "execution_count": null,
   "metadata": {},
   "outputs": [],
   "source": [
    "from utils import get_dataset\n",
    "import glob\n",
    "import matplotlib.pyplot as plt\n",
    "import matplotlib.patches as patches\n",
    "from matplotlib.patches import Rectangle\n",
    "import numpy as np\n",
    "import tensorflow as tf\n",
    "\n",
    "%matplotlib inline"
   ]
  },
  {
   "cell_type": "code",
   "execution_count": null,
   "metadata": {},
   "outputs": [],
   "source": [
    "dataset = get_dataset(\"/home/workspace/data/train/*.tfrecord\")"
   ]
  },
  {
   "cell_type": "markdown",
   "metadata": {},
   "source": [
    "## Write a function to display an image and the bounding boxes\n",
    "\n",
    "Implement the `display_images` function below. This function takes a batch as an input and display an image with its corresponding bounding boxes. The only requirement is that the classes should be color coded (eg, vehicles in red, pedestrians in blue, cyclist in green)."
   ]
  },
  {
   "cell_type": "code",
   "execution_count": null,
   "metadata": {},
   "outputs": [],
   "source": [
    "def display_images(batch):\n",
    "    # TODO - Your implementation here\n",
    "    name=batch['filename']\n",
    "    img=batch['image'].numpy()\n",
    "    img_shape=img.shape\n",
    "    bboxes=batch['groundtruth_boxes'].numpy()\n",
    "    classes=batch['groundtruth_classes'].numpy()\n",
    "    #Build the fig\n",
    "    f,ax=plt.subplots(1,figsize=(20,10))\n",
    "    #Color mapping of classes\n",
    "    colormap={1:[1,0,0],2:[0,0,1],4:[0,1,0]}\n",
    "    for clas,bbox in zip(classes,bboxes):\n",
    "        y1,x1,y2,x2=bbox\n",
    "        y1=y1*img_shape[0]\n",
    "        x1=x1*img_shape[1]\n",
    "        y2=y2*img_shape[0]\n",
    "        x2=x2*img_shape[1]\n",
    "        rec=Rectangle((x1,y1),x2-x1,y2-y1,facecolor='none',edgecolor=colormap[clas])\n",
    "        ax.add_patch(rec)\n",
    "    #plot the img with bbox\n",
    "    imgplot=plt.imshow(img)\n",
    "    plt.show()"
   ]
  },
  {
   "cell_type": "markdown",
   "metadata": {},
   "source": [
    "## Display 10 images \n",
    "\n",
    "Using the dataset created in the second cell and the function you just coded, display 10 random images with the associated bounding boxes. You can use the methods `take` and `shuffle` on the dataset."
   ]
  },
  {
   "cell_type": "code",
   "execution_count": null,
   "metadata": {},
   "outputs": [],
   "source": [
    "# Display 10 random images in dataset\n",
    "dt_extract = dataset.take(10)\n",
    "for batch in dt_extract:\n",
    "    display_images(batch)"
   ]
  },
  {
   "cell_type": "markdown",
   "metadata": {},
   "source": [
    "## Additional EDA\n",
    "\n",
    "In this last part, you are free to perform any additional analysis of the dataset. What else would like to know about the data?\n",
    "For example, think about data distribution. So far, you have only looked at a single file..."
   ]
  },
  {
   "cell_type": "code",
   "execution_count": 7,
   "metadata": {},
   "outputs": [
    {
     "data": {
      "text/plain": [
       "Text(0, 0.5, 'Number of Objects')"
      ]
     },
     "execution_count": 7,
     "metadata": {},
     "output_type": "execute_result"
    },
    {
     "data": {
      "image/png": "[encoded data removed]",
      "text/plain": [
       "<Figure size 432x288 with 1 Axes>"
      ]
     },
     "metadata": {
      "needs_background": "light"
     },
     "output_type": "display_data"
    }
   ],
   "source": [
    "veh = 0\n",
    "ped = 0\n",
    "cyc = 0\n",
    "count = [0,0,0]\n",
    "\n",
    "for batch in dataset.take(1000): \n",
    "    for label in batch[\"groundtruth_classes\"].numpy():    \n",
    "\n",
    "        if label == 1:\n",
    "            veh = veh +1\n",
    "            \n",
    "        if label == 2:\n",
    "            ped = ped +1\n",
    "            \n",
    "        if label == 4:\n",
    "            cyc = cyc +1\n",
    "\n",
    "count[0]=veh\n",
    "count[1]=ped\n",
    "count[2]=cyc\n",
    "name = ['Vehicles', 'Pedestrians', 'Cyclists']\n",
    "\n",
    "plt.bar(name, count, width = 0.5)\n",
    "plt.xlabel('Class Name')\n",
    "plt.ylabel('Number of Objects')"
   ]
  },
  {
   "cell_type": "code",
   "execution_count": null,
   "metadata": {},
   "outputs": [],
   "source": []
  },
  {
   "cell_type": "code",
   "execution_count": null,
   "metadata": {},
   "outputs": [],
   "source": []
  }
 ],
 "metadata": {
  "kernelspec": {
   "display_name": "Python 3",
   "language": "python",
   "name": "python3"
  },
  "language_info": {
   "codemirror_mode": {
    "name": "ipython",
    "version": 3
   },
   "file_extension": ".py",
   "mimetype": "text/x-python",
   "name": "python",
   "nbconvert_exporter": "python",
   "pygments_lexer": "ipython3",
   "version": "3.7.3"
  }
 },
 "nbformat": 4,
 "nbformat_minor": 4
}
